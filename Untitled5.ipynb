{
  "nbformat": 4,
  "nbformat_minor": 0,
  "metadata": {
    "colab": {
      "name": "Untitled5.ipynb",
      "provenance": [],
      "authorship_tag": "ABX9TyOV6LBLoNM4PN5fJB19NM/g",
      "include_colab_link": true
    },
    "kernelspec": {
      "name": "python3",
      "display_name": "Python 3"
    },
    "language_info": {
      "name": "python"
    }
  },
  "cells": [
    {
      "cell_type": "markdown",
      "metadata": {
        "id": "view-in-github",
        "colab_type": "text"
      },
      "source": [
        "<a href=\"https://colab.research.google.com/github/todd-jang/todd-jang/blob/main/Untitled5.ipynb\" target=\"_parent\"><img src=\"https://colab.research.google.com/assets/colab-badge.svg\" alt=\"Open In Colab\"/></a>"
      ]
    },
    {
      "cell_type": "code",
      "execution_count": 1,
      "metadata": {
        "id": "MRU02YRyhn9K",
        "outputId": "2bbb4f0c-15a2-4d8f-900a-efcd02f4c470",
        "colab": {
          "base_uri": "https://localhost:8080/",
          "height": 322
        }
      },
      "outputs": [
        {
          "output_type": "stream",
          "name": "stderr",
          "text": [
            "/usr/local/lib/python3.7/dist-packages/seaborn/_decorators.py:43: FutureWarning: Pass the following variables as keyword args: x, y. From version 0.12, the only valid positional argument will be `data`, and passing other arguments without an explicit keyword will result in an error or misinterpretation.\n",
            "  FutureWarning\n"
          ]
        },
        {
          "output_type": "display_data",
          "data": {
            "text/plain": [
              "<Figure size 432x288 with 1 Axes>"
            ],
            "image/png": "[encoded data removed]"
          },
          "metadata": {
            "needs_background": "light"
          }
        }
      ],
      "source": [
        "import numpy as np\n",
        "import matplotlib.pyplot as plt\n",
        "import seaborn as sns\n",
        "\n",
        "# 랜덤하게 평균0, 표준편차1의 가우시안 표준정규분포 난수 x, y를 50개씩 뽑습니다\n",
        "np.random.seed(42)  # 동일한 결과를 보기 위해 시드를 고정합니다. https://numpy.org/doc/stable/reference/random/generated/numpy.random.seed.html\n",
        "x = np.random.randn(50)\n",
        "y = np.random.randn(50)\n",
        "\n",
        "# 산점도를 통해 x,y를 시각화 합니다.\n",
        "sns.regplot(x, y)\n",
        "plt.show()\n"
      ]
    },
    {
      "cell_type": "code",
      "source": [
        "# 예시 1 : Numerical Method\n",
        "\n",
        "# f(x) = 5\n",
        "def f(x):\n",
        "    return 5\n",
        "\n",
        "def numerical_derivative(fx, x):\n",
        "    delta_x = 1e-5\n",
        "\n",
        "    return (fx(x + delta_x) - fx(x)) / delta_x\n",
        "\n",
        "print(numerical_derivative(f, 1))\n",
        "\n",
        "# 예시 2 : Scipy의 derivative 활용\n",
        "from scipy.misc import derivative\n",
        "\n",
        "# 두 방법의 결과값 비교\n",
        "derivative(f,1, dx=1e-6) == numerical_derivative(f, 1)\n"
      ],
      "metadata": {
        "id": "TqTvrFtxiLX0",
        "outputId": "cb0b8720-bcd1-4645-ff12-cfafbcae8afd",
        "colab": {
          "base_uri": "https://localhost:8080/"
        }
      },
      "execution_count": 2,
      "outputs": [
        {
          "output_type": "stream",
          "name": "stdout",
          "text": [
            "0.0\n"
          ]
        },
        {
          "output_type": "execute_result",
          "data": {
            "text/plain": [
              "True"
            ]
          },
          "metadata": {},
          "execution_count": 2
        }
      ]
    },
    {
      "cell_type": "code",
      "source": [
        "# 같은 결과를 numerical method를 활용해서 계산해보겠습니다\n",
        "def f(x):\n",
        "    return 3*(x**4) + 10\n",
        "\n",
        "def numerical_derivative(fx, x):\n",
        "    delta_x = 1e-5\n",
        "\n",
        "    return (fx(x + delta_x) - fx(x)) / delta_x\n",
        "\n",
        "print(numerical_derivative(f, 2))\n",
        "\n",
        "# 예시 2 : Scipy의 derivative 활용\n",
        "from scipy.misc import derivative\n",
        "\n",
        "# 두 방법의 결과값 비교\n",
        "print(derivative(f,2, dx=1e-5))\n",
        "derivative(f,2, dx=1e-5) == numerical_derivative(f, 2)  #delta X의 값은 같지만 Rounding 에러로 인해 두 결과가 미묘하게 다른 것을 확인하실 수 있습니다.\n"
      ],
      "metadata": {
        "id": "7-E9JQyciVak",
        "outputId": "4443f557-778e-4e4f-abd1-74576a5be00a",
        "colab": {
          "base_uri": "https://localhost:8080/"
        }
      },
      "execution_count": 3,
      "outputs": [
        {
          "output_type": "stream",
          "name": "stdout",
          "text": [
            "96.0007200028201\n",
            "96.0000000031158\n"
          ]
        },
        {
          "output_type": "execute_result",
          "data": {
            "text/plain": [
              "False"
            ]
          },
          "metadata": {},
          "execution_count": 3
        }
      ]
    },
    {
      "cell_type": "code",
      "source": [
        "def gradient_descent(X, y, lr = 0.05, epoch = 10):\n",
        "    \n",
        "    a, b = 0.33, 0.48 # 임의 선택한 파라미터 a, b\n",
        "    N = len(X) # 샘플 갯수\n",
        "    \n",
        "    for _ in range(epoch):            \n",
        "        f = y - (a*X + b)\n",
        "    \n",
        "        # a와 b를 업데이트 합니다\n",
        "        a -= lr * (-2 * X.dot(f).sum() / N)\n",
        "        b -= lr * (-2 * f.sum() / N)        \n",
        "        \n",
        "    print('a: '+str(a))\n",
        "    print('b: '+str(b))\n",
        "    # y = 3 x + 5\n",
        "X = np.array([1, 2, 3, 4, 5])\n",
        "y = np.array([8, 11, 14, 17, 20])\n",
        "gradient_descent(X,y)  # 10번만 돌렸을 때\n",
        "gradient_descent(X, y, epoch = 100)  # 100번 반복\n",
        "gradient_descent(X, y, epoch = 1000)  # 1000번 반복\n"
      ],
      "metadata": {
        "id": "Dgyc0X3hiclV",
        "outputId": "70101cb1-23bd-4ed0-c539-f429a77ccbd5",
        "colab": {
          "base_uri": "https://localhost:8080/"
        }
      },
      "execution_count": 7,
      "outputs": [
        {
          "output_type": "stream",
          "name": "stdout",
          "text": [
            "a: 3.8200706153280004\n",
            "b: 2.039284272128\n",
            "a: 3.176787975497293\n",
            "b: 4.36173931393391\n",
            "a: 3.000000038323629\n",
            "b: 4.999999861639539\n"
          ]
        }
      ]
    }
  ]
}